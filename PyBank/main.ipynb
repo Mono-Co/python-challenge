{
 "cells": [
  {
   "cell_type": "code",
   "execution_count": 2,
   "id": "d9aba29e-1e9b-4eca-a847-ceb6b62364ff",
   "metadata": {},
   "outputs": [
    {
     "name": "stdout",
     "output_type": "stream",
     "text": [
      "Financial Analysis\n",
      "___________________________________\n",
      "Total Months: 86\n",
      "Total: $22564198\n",
      "Average Change is: $-8311.11\n",
      "Greatest Increase in Profits: Mar-13  ($1141840)\n",
      "Greatest Decrease in Profits: Dec-10  ($-1194133)\n"
     ]
    }
   ],
   "source": [
    "\n",
    "import os\n",
    "import csv\n",
    "import statistics\n",
    "\n",
    "# Import the CSV file\n",
    "budget_data_csv = os.path.join('budget_data.csv')\n",
    "\n",
    "# Chreate variables\n",
    "month_count = 0\n",
    "total_profit = 0\n",
    "greatest_increase = 0\n",
    "best_month = ''\n",
    "greatest_decrease = 0\n",
    "worst_month = ''\n",
    "\n",
    "# Create the lists to store data. \n",
    "change = []\n",
    "month_to_month_change = []\n",
    "\n",
    "with open(budget_data_csv, newline='') as csvfile:\n",
    "\n",
    "   # Open the CSV using the set path PyBank\n",
    "    csvreader = csv.reader(csvfile, delimiter=',')\n",
    "\n",
    "    # Read the header row\n",
    "    csv_header = next(csvreader)\n",
    "\n",
    "    # Read each row of data\n",
    "    for row in csvreader:\n",
    "        month_count += 1\n",
    "        total_profit += int(row[1])\n",
    "        if int(row[1]) > greatest_increase:\n",
    "            best_month = (row[0])\n",
    "            greatest_increase = int(row[1])\n",
    "        elif int(row[1]) < greatest_decrease:\n",
    "            worst_month = (row[0])\n",
    "            greatest_decrease = int(row[1])\n",
    "        change.append(int(row[1]))\n",
    "\n",
    "# Change in proffit / loss over the entire period & average of the changes\n",
    "for i in range(len(change)-1):\n",
    "    monthly_change = (change[i+1] - change[i])\n",
    "    month_to_month_change.append(monthly_change)   \n",
    "\n",
    "average_change = statistics.mean(month_to_month_change)\n",
    "\n",
    "print(\"Financial Analysis\")\n",
    "print(\"___________________________________\")\n",
    "\n",
    "print(\"Total Months: \" + str(month_count))\n",
    "print(\"Total: $\" + str(total_profit))\n",
    "print(\"Average Change is: $\" + str(round(average_change, 2)))\n",
    "print(\"Greatest Increase in Profits: \" + str(best_month) + \"  ($\" + str(greatest_increase) + \")\")\n",
    "print(\"Greatest Decrease in Profits: \" + str(worst_month) + \"  ($\" + str(greatest_decrease) + \")\")\n",
    "\n",
    "with open('PyBank.txt', 'w') as text:\n",
    "    text.write(\"Financial Analysis\")\n",
    "    text.write(\"---------------------------------------\")\n",
    "    text.write(\"Total Months: \" + str(month_count)) \n",
    "    text.write(\"Total: $\" + str(total_profit))\n",
    "    text.write(\"Average Change is: $\" + str(round(average_change, 2)))\n",
    "    text.write(\"Greatest Increase in Profits: \" + str(best_month) + \"  ($\" + str(greatest_increase) + \")\")  \n",
    "    text.write(\"Greatest Decrease in Profits: \" + str(worst_month) + \"  ($\" + str(greatest_decrease) + \")\")"
   ]
  }
 ],
 "metadata": {
  "kernelspec": {
   "display_name": "Python 3 (ipykernel)",
   "language": "python",
   "name": "python3"
  },
  "language_info": {
   "codemirror_mode": {
    "name": "ipython",
    "version": 3
   },
   "file_extension": ".py",
   "mimetype": "text/x-python",
   "name": "python",
   "nbconvert_exporter": "python",
   "pygments_lexer": "ipython3",
   "version": "3.9.6"
  }
 },
 "nbformat": 4,
 "nbformat_minor": 5
}
