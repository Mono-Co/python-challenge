{
 "cells": [
  {
   "cell_type": "code",
   "execution_count": 16,
   "id": "d9aba29e-1e9b-4eca-a847-ceb6b62364ff",
   "metadata": {},
   "outputs": [
    {
     "name": "stdout",
     "output_type": "stream",
     "text": [
      "-------------------------\n",
      "Election Results\n",
      "-------------------------\n",
      "Total Votes :[85213, 272892, 11606]\n",
      "-------------------------\n",
      "Charles Casper Stockham : 433.867% (85213)\n",
      "Diana DeGette : 135.479% (272892)\n",
      "Raymon Anthony Doane : 3185.516% (11606)\n",
      "-------------------------\n",
      "The winner is: Diana DeGette\n",
      "-------------------------\n"
     ]
    }
   ],
   "source": [
    "import os\n",
    "import csv\n",
    "\n",
    "# Set the path for the CSV file in PyPoll\n",
    "\n",
    "PyPoll = os.path.join(\"election_data.csv\")\n",
    "\n",
    "# Create the lists to store data\n",
    "\n",
    "total_count = 0\n",
    "candidatelist = []\n",
    "unique_candidate = []\n",
    "vote_count = []\n",
    "vote_percent = []\n",
    "\n",
    "# Open the CSV using the set path PyPoll\n",
    "\n",
    "with open(PyPoll, newline=\"\") as csvfile:\n",
    "    csvreader = csv.reader(csvfile, delimiter=\",\")\n",
    "    csv_header = next(csvreader)\n",
    "\n",
    "    # For loop\n",
    "    for row in csvreader:\n",
    "        # Number of votes\n",
    "        total_count = total_count + 1\n",
    "        # Candidate names to candidatelist\n",
    "        candidatelist.append(row[2])\n",
    "        # Create a set from the candidatelist to get names\n",
    "    for name in set(candidatelist):\n",
    "        unique_candidate.append(name)\n",
    "        # votes is the  number of votes per candidate\n",
    "        votes = candidatelist.count(name)\n",
    "        vote_count.append(votes)\n",
    "        # votes is the percent votes per candidate\n",
    "        votes = round((total_count/votes)*100, 3)\n",
    "        vote_percent.append(votes)\n",
    "        \n",
    "    winning_vote_count = max(vote_count)\n",
    "    winner = unique_candidate[vote_count.index(winning_vote_count)]\n",
    "    \n",
    "\n",
    "print(\"-------------------------\")\n",
    "print(\"Election Results\")   \n",
    "print(\"-------------------------\")\n",
    "print(\"Total Votes :\" + str(vote_count))    \n",
    "print(\"-------------------------\")\n",
    "for i in range(len(unique_candidate)):\n",
    "  print(unique_candidate[i] + \" : \" + str(vote_percent[i]) +\"% (\" + str(vote_count[i])+ \")\")\n",
    "print(\"-------------------------\")\n",
    "print(\"The winner is: \" + winner)\n",
    "print(\"-------------------------\")\n",
    "\n",
    "with open('PyPoll.txt', 'w') as text:\n",
    "    text.write(\"Election Results\")\n",
    "    text.write(\"---------------------------------------\")\n",
    "    text.write(\"Total Votes :\" + str(vote_count))  \n",
    "    text.write(\"---------------------------------------\")\n",
    "    for i in range(len(unique_candidate)):\n",
    "        text.write(unique_candidate[i] + \" : \" + str(vote_percent[i]) +\"% (\" + str(vote_count[i])+ \")\")\n",
    "    text.write(\"---------------------------------------\")\n",
    "    text.write(\"The winner is: \" + winner )\n",
    "    text.write(\"---------------------------------------\")\n"
   ]
  }
 ],
 "metadata": {
  "kernelspec": {
   "display_name": "Python 3 (ipykernel)",
   "language": "python",
   "name": "python3"
  },
  "language_info": {
   "codemirror_mode": {
    "name": "ipython",
    "version": 3
   },
   "file_extension": ".py",
   "mimetype": "text/x-python",
   "name": "python",
   "nbconvert_exporter": "python",
   "pygments_lexer": "ipython3",
   "version": "3.9.6"
  }
 },
 "nbformat": 4,
 "nbformat_minor": 5
}
